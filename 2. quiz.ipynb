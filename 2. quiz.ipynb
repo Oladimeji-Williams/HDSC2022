{
 "cells": [
  {
   "cell_type": "markdown",
   "id": "cd176d84",
   "metadata": {},
   "source": [
    "# Stage B Quiz Solution\n",
    "\n",
    "Oladimeji Williams\n",
    "© ellipsis\n",
    "\n",
    "---\n",
    "\n",
    "I **Oladimeji WILLIAMS**, confirm - by submitting this document - that the solutions in this notebook are a result of my own work and that I abide by the [Code of Conduct](https://drive.google.com/file/d/1sbR80aowp1daCnElwx3kNm0fxids0e6b/view) contained therein.\n",
    "\n",
    "\n",
    "### Overview: Machine Learning: Regression - Predicting Energy Efficiency of Buildings\n",
    "> The dataset for the remainder of this quiz is the Appliances Energy Prediction data. The data set is at 10 min for about 4.5 months. The house temperature and humidity conditions were monitored with a ZigBee wireless sensor network. Each wireless node transmitted the temperature and humidity conditions around 3.3 min. Then, the wireless data was averaged for 10 minutes periods. The energy data was logged every 10 minutes with m-bus energy meters. Weather from the nearest airport weather station (Chievres Airport, Belgium) was downloaded from a public data set from Reliable Prognosis (rp5.ru), and merged together with the experimental data sets using the date and time column. Two random variables have been included in the data set for testing the regression models and to filter out non predictive attributes (parameters). The attribute information can be seen below.\n",
    "\n",
    "Attribute Information:\n",
    "- 1.   `date`, time year-month-day hour:minute:second\n",
    "- 2.   `Appliances`, energy use in Wh\n",
    "- 3.   `lights`, energy use of light fixtures in the house in Wh\n",
    "- 4.   `T1`, Temperature in kitchen area, in Celsius\n",
    "- 5.   `RH_1`, Humidity in kitchen area, in %\n",
    "- 6.   `T2`, Temperature in living room area, in Celsius\n",
    "- 7.   `RH_2`, Humidity in living room area, in %\n",
    "- 8.   `T3`, Temperature in laundry room area\n",
    "- 9.   `RH_3`, Humidity in laundry room area, in %\n",
    "- 10.  `T4`, Temperature in office room, in Celsius\n",
    "- 11.  `RH_4`, Humidity in office room, in %\n",
    "- 12.  `T5`, Temperature in bathroom, in Celsius\n",
    "- 13.  `RH_5`, Humidity in bathroom, in %\n",
    "- 14.  `T6`, Temperature outside the building (north side), in Celsius\n",
    "- 15.  `RH_6`, Humidity outside the building (north side), in %\n",
    "- 16.  `T7`, Temperature in ironing room , in Celsius\n",
    "- 17.  `RH_7`, Humidity in ironing room, in %\n",
    "- 18.  `T8`, Temperature in teenager room 2, in Celsius\n",
    "- 19.  `RH_8`, Humidity in teenager room 2, in %\n",
    "- 20.  `T9`, Temperature in parents room, in Celsius\n",
    "- 21.  `RH_9`, Humidity in parents room, in %\n",
    "- 22.  `T_out`, Temperature outside (from Chievres weather station), in Celsius\n",
    "- 23.  `Press_mm_hg` (from Chievres weather station), in mm Hg\n",
    "- 24.  `RH_out`, Humidity outside (from Chievres weather station), in %\n",
    "- 25.  `Windspeed` (from Chievres weather station), in m/s\n",
    "- 26.  `Visibility` (from Chievres weather station), in km\n",
    "- 27.  `Tdewpoint` (from Chievres weather station), Â°C\n",
    "- 28.  `rv1`, Random variable 1, nondimensional\n",
    "- 29.  `rv2`, Random variable 2, nondimensional"
   ]
  },
  {
   "cell_type": "markdown",
   "id": "bf6660e2",
   "metadata": {},
   "source": [
    "# Preliminaries"
   ]
  },
  {
   "cell_type": "code",
   "execution_count": 1,
   "id": "abd05723",
   "metadata": {},
   "outputs": [],
   "source": [
    "# Load All Possible Libraries\n",
    "import pandas as pd\n",
    "import numpy as np\n",
    "import matplotlib.pyplot as plt\n",
    "import seaborn as sns\n",
    "from sklearn.linear_model import LinearRegression, Ridge, Lasso\n",
    "from sklearn.metrics import r2_score, mean_absolute_error, mean_squared_error\n",
    "from sklearn.model_selection import train_test_split\n",
    "from sklearn.preprocessing import MinMaxScaler\n",
    "from statsmodels.graphics.correlation import plot_corr\n",
    "import statsmodels.formula.api as smf\n",
    "import statsmodels.api as sm\n",
    "from sklearn.preprocessing import LabelEncoder\n",
    "import warnings\n",
    "warnings.filterwarnings('ignore')\n",
    "%matplotlib inline"
   ]
  },
  {
   "cell_type": "code",
   "execution_count": 2,
   "id": "f39c9aa1",
   "metadata": {},
   "outputs": [],
   "source": [
    "# Load the dateset\n",
    "df = pd.read_csv(r\"energydata_complete.csv\", parse_dates=[0])"
   ]
  },
  {
   "cell_type": "code",
   "execution_count": 3,
   "id": "ee5a0ce4",
   "metadata": {},
   "outputs": [],
   "source": [
    "# Copy the dataset into another dataframe\n",
    "df_copy = df.copy()"
   ]
  },
  {
   "cell_type": "code",
   "execution_count": 4,
   "id": "3673c4d5",
   "metadata": {},
   "outputs": [
    {
     "data": {
      "text/html": [
       "<div>\n",
       "<style scoped>\n",
       "    .dataframe tbody tr th:only-of-type {\n",
       "        vertical-align: middle;\n",
       "    }\n",
       "\n",
       "    .dataframe tbody tr th {\n",
       "        vertical-align: top;\n",
       "    }\n",
       "\n",
       "    .dataframe thead th {\n",
       "        text-align: right;\n",
       "    }\n",
       "</style>\n",
       "<table border=\"1\" class=\"dataframe\">\n",
       "  <thead>\n",
       "    <tr style=\"text-align: right;\">\n",
       "      <th></th>\n",
       "      <th>date</th>\n",
       "      <th>Appliances</th>\n",
       "      <th>lights</th>\n",
       "      <th>T1</th>\n",
       "      <th>RH_1</th>\n",
       "      <th>T2</th>\n",
       "      <th>RH_2</th>\n",
       "      <th>T3</th>\n",
       "      <th>RH_3</th>\n",
       "      <th>T4</th>\n",
       "      <th>...</th>\n",
       "      <th>T9</th>\n",
       "      <th>RH_9</th>\n",
       "      <th>T_out</th>\n",
       "      <th>Press_mm_hg</th>\n",
       "      <th>RH_out</th>\n",
       "      <th>Windspeed</th>\n",
       "      <th>Visibility</th>\n",
       "      <th>Tdewpoint</th>\n",
       "      <th>rv1</th>\n",
       "      <th>rv2</th>\n",
       "    </tr>\n",
       "  </thead>\n",
       "  <tbody>\n",
       "    <tr>\n",
       "      <th>0</th>\n",
       "      <td>2016-01-11 17:00:00</td>\n",
       "      <td>60</td>\n",
       "      <td>30</td>\n",
       "      <td>19.89</td>\n",
       "      <td>47.596667</td>\n",
       "      <td>19.2</td>\n",
       "      <td>44.790000</td>\n",
       "      <td>19.79</td>\n",
       "      <td>44.730000</td>\n",
       "      <td>19.000000</td>\n",
       "      <td>...</td>\n",
       "      <td>17.033333</td>\n",
       "      <td>45.53</td>\n",
       "      <td>6.600000</td>\n",
       "      <td>733.5</td>\n",
       "      <td>92.0</td>\n",
       "      <td>7.000000</td>\n",
       "      <td>63.000000</td>\n",
       "      <td>5.3</td>\n",
       "      <td>13.275433</td>\n",
       "      <td>13.275433</td>\n",
       "    </tr>\n",
       "    <tr>\n",
       "      <th>1</th>\n",
       "      <td>2016-01-11 17:10:00</td>\n",
       "      <td>60</td>\n",
       "      <td>30</td>\n",
       "      <td>19.89</td>\n",
       "      <td>46.693333</td>\n",
       "      <td>19.2</td>\n",
       "      <td>44.722500</td>\n",
       "      <td>19.79</td>\n",
       "      <td>44.790000</td>\n",
       "      <td>19.000000</td>\n",
       "      <td>...</td>\n",
       "      <td>17.066667</td>\n",
       "      <td>45.56</td>\n",
       "      <td>6.483333</td>\n",
       "      <td>733.6</td>\n",
       "      <td>92.0</td>\n",
       "      <td>6.666667</td>\n",
       "      <td>59.166667</td>\n",
       "      <td>5.2</td>\n",
       "      <td>18.606195</td>\n",
       "      <td>18.606195</td>\n",
       "    </tr>\n",
       "    <tr>\n",
       "      <th>2</th>\n",
       "      <td>2016-01-11 17:20:00</td>\n",
       "      <td>50</td>\n",
       "      <td>30</td>\n",
       "      <td>19.89</td>\n",
       "      <td>46.300000</td>\n",
       "      <td>19.2</td>\n",
       "      <td>44.626667</td>\n",
       "      <td>19.79</td>\n",
       "      <td>44.933333</td>\n",
       "      <td>18.926667</td>\n",
       "      <td>...</td>\n",
       "      <td>17.000000</td>\n",
       "      <td>45.50</td>\n",
       "      <td>6.366667</td>\n",
       "      <td>733.7</td>\n",
       "      <td>92.0</td>\n",
       "      <td>6.333333</td>\n",
       "      <td>55.333333</td>\n",
       "      <td>5.1</td>\n",
       "      <td>28.642668</td>\n",
       "      <td>28.642668</td>\n",
       "    </tr>\n",
       "    <tr>\n",
       "      <th>3</th>\n",
       "      <td>2016-01-11 17:30:00</td>\n",
       "      <td>50</td>\n",
       "      <td>40</td>\n",
       "      <td>19.89</td>\n",
       "      <td>46.066667</td>\n",
       "      <td>19.2</td>\n",
       "      <td>44.590000</td>\n",
       "      <td>19.79</td>\n",
       "      <td>45.000000</td>\n",
       "      <td>18.890000</td>\n",
       "      <td>...</td>\n",
       "      <td>17.000000</td>\n",
       "      <td>45.40</td>\n",
       "      <td>6.250000</td>\n",
       "      <td>733.8</td>\n",
       "      <td>92.0</td>\n",
       "      <td>6.000000</td>\n",
       "      <td>51.500000</td>\n",
       "      <td>5.0</td>\n",
       "      <td>45.410389</td>\n",
       "      <td>45.410389</td>\n",
       "    </tr>\n",
       "    <tr>\n",
       "      <th>4</th>\n",
       "      <td>2016-01-11 17:40:00</td>\n",
       "      <td>60</td>\n",
       "      <td>40</td>\n",
       "      <td>19.89</td>\n",
       "      <td>46.333333</td>\n",
       "      <td>19.2</td>\n",
       "      <td>44.530000</td>\n",
       "      <td>19.79</td>\n",
       "      <td>45.000000</td>\n",
       "      <td>18.890000</td>\n",
       "      <td>...</td>\n",
       "      <td>17.000000</td>\n",
       "      <td>45.40</td>\n",
       "      <td>6.133333</td>\n",
       "      <td>733.9</td>\n",
       "      <td>92.0</td>\n",
       "      <td>5.666667</td>\n",
       "      <td>47.666667</td>\n",
       "      <td>4.9</td>\n",
       "      <td>10.084097</td>\n",
       "      <td>10.084097</td>\n",
       "    </tr>\n",
       "  </tbody>\n",
       "</table>\n",
       "<p>5 rows × 29 columns</p>\n",
       "</div>"
      ],
      "text/plain": [
       "                 date  Appliances  lights     T1       RH_1    T2       RH_2  \\\n",
       "0 2016-01-11 17:00:00          60      30  19.89  47.596667  19.2  44.790000   \n",
       "1 2016-01-11 17:10:00          60      30  19.89  46.693333  19.2  44.722500   \n",
       "2 2016-01-11 17:20:00          50      30  19.89  46.300000  19.2  44.626667   \n",
       "3 2016-01-11 17:30:00          50      40  19.89  46.066667  19.2  44.590000   \n",
       "4 2016-01-11 17:40:00          60      40  19.89  46.333333  19.2  44.530000   \n",
       "\n",
       "      T3       RH_3         T4  ...         T9   RH_9     T_out  Press_mm_hg  \\\n",
       "0  19.79  44.730000  19.000000  ...  17.033333  45.53  6.600000        733.5   \n",
       "1  19.79  44.790000  19.000000  ...  17.066667  45.56  6.483333        733.6   \n",
       "2  19.79  44.933333  18.926667  ...  17.000000  45.50  6.366667        733.7   \n",
       "3  19.79  45.000000  18.890000  ...  17.000000  45.40  6.250000        733.8   \n",
       "4  19.79  45.000000  18.890000  ...  17.000000  45.40  6.133333        733.9   \n",
       "\n",
       "   RH_out  Windspeed  Visibility  Tdewpoint        rv1        rv2  \n",
       "0    92.0   7.000000   63.000000        5.3  13.275433  13.275433  \n",
       "1    92.0   6.666667   59.166667        5.2  18.606195  18.606195  \n",
       "2    92.0   6.333333   55.333333        5.1  28.642668  28.642668  \n",
       "3    92.0   6.000000   51.500000        5.0  45.410389  45.410389  \n",
       "4    92.0   5.666667   47.666667        4.9  10.084097  10.084097  \n",
       "\n",
       "[5 rows x 29 columns]"
      ]
     },
     "execution_count": 4,
     "metadata": {},
     "output_type": "execute_result"
    }
   ],
   "source": [
    "# Peak the first few observations of the dataset\n",
    "df.head()"
   ]
  },
  {
   "cell_type": "code",
   "execution_count": 5,
   "id": "7e8229bd",
   "metadata": {},
   "outputs": [
    {
     "data": {
      "text/plain": [
       "date           datetime64[ns]\n",
       "Appliances              int64\n",
       "lights                  int64\n",
       "T1                    float64\n",
       "RH_1                  float64\n",
       "T2                    float64\n",
       "RH_2                  float64\n",
       "T3                    float64\n",
       "RH_3                  float64\n",
       "T4                    float64\n",
       "RH_4                  float64\n",
       "T5                    float64\n",
       "RH_5                  float64\n",
       "T6                    float64\n",
       "RH_6                  float64\n",
       "T7                    float64\n",
       "RH_7                  float64\n",
       "T8                    float64\n",
       "RH_8                  float64\n",
       "T9                    float64\n",
       "RH_9                  float64\n",
       "T_out                 float64\n",
       "Press_mm_hg           float64\n",
       "RH_out                float64\n",
       "Windspeed             float64\n",
       "Visibility            float64\n",
       "Tdewpoint             float64\n",
       "rv1                   float64\n",
       "rv2                   float64\n",
       "dtype: object"
      ]
     },
     "execution_count": 5,
     "metadata": {},
     "output_type": "execute_result"
    }
   ],
   "source": [
    "# Peak the datatypes\n",
    "df.dtypes"
   ]
  },
  {
   "cell_type": "markdown",
   "id": "120dc308",
   "metadata": {},
   "source": [
    "## Question 12"
   ]
  },
  {
   "cell_type": "code",
   "execution_count": 6,
   "id": "c64e7254",
   "metadata": {},
   "outputs": [
    {
     "data": {
      "text/plain": [
       "'T6 ~ T2'"
      ]
     },
     "execution_count": 6,
     "metadata": {},
     "output_type": "execute_result"
    }
   ],
   "source": [
    "# Build ols model\n",
    "formula = df.columns[13]+' ~ '+ df.columns[5]; formula"
   ]
  },
  {
   "cell_type": "code",
   "execution_count": 7,
   "id": "1c21a767",
   "metadata": {},
   "outputs": [
    {
     "name": "stdout",
     "output_type": "stream",
     "text": [
      "                            OLS Regression Results                            \n",
      "==============================================================================\n",
      "Dep. Variable:                     T6   R-squared:                       0.642\n",
      "Model:                            OLS   Adj. R-squared:                  0.642\n",
      "Method:                 Least Squares   F-statistic:                 3.537e+04\n",
      "Date:                Tue, 09 Aug 2022   Prob (F-statistic):               0.00\n",
      "Time:                        15:30:46   Log-Likelihood:                -53524.\n",
      "No. Observations:               19735   AIC:                         1.071e+05\n",
      "Df Residuals:                   19733   BIC:                         1.071e+05\n",
      "Df Model:                           1                                         \n",
      "Covariance Type:            nonrobust                                         \n",
      "==============================================================================\n",
      "                 coef    std err          t      P>|t|      [0.025      0.975]\n",
      "------------------------------------------------------------------------------\n",
      "Intercept    -37.3495      0.242   -154.306      0.000     -37.824     -36.875\n",
      "T2             2.2251      0.012    188.073      0.000       2.202       2.248\n",
      "==============================================================================\n",
      "Omnibus:                      842.252   Durbin-Watson:                   0.005\n",
      "Prob(Omnibus):                  0.000   Jarque-Bera (JB):              964.072\n",
      "Skew:                          -0.510   Prob(JB):                    4.51e-210\n",
      "Kurtosis:                       3.365   Cond. No.                         191.\n",
      "==============================================================================\n",
      "\n",
      "Notes:\n",
      "[1] Standard Errors assume that the covariance matrix of the errors is correctly specified.\n"
     ]
    }
   ],
   "source": [
    "ols_model = smf.ols(formula=formula, data=df)\n",
    "fitted = ols_model.fit()\n",
    "print(fitted.summary())"
   ]
  },
  {
   "cell_type": "code",
   "execution_count": 8,
   "id": "d776c743",
   "metadata": {},
   "outputs": [],
   "source": [
    "# Feature Selection for Linear Regression\n",
    "X = df[[\"T2\"]]\n",
    "y = df[\"T6\"]"
   ]
  },
  {
   "cell_type": "code",
   "execution_count": 9,
   "id": "7bb57838",
   "metadata": {},
   "outputs": [],
   "source": [
    "# Split the dataset into train and test sets\n",
    "X_train, X_test, y_train, y_test = train_test_split(X, y)"
   ]
  },
  {
   "cell_type": "code",
   "execution_count": 10,
   "id": "e6a47aef",
   "metadata": {},
   "outputs": [
    {
     "data": {
      "text/plain": [
       "LinearRegression()"
      ]
     },
     "execution_count": 10,
     "metadata": {},
     "output_type": "execute_result"
    }
   ],
   "source": [
    "# Build a Linear Regression Model\n",
    "linear_model1 = LinearRegression()\n",
    "linear_model1.fit(X_train, y_train)"
   ]
  },
  {
   "cell_type": "code",
   "execution_count": 11,
   "id": "d5a412ca",
   "metadata": {},
   "outputs": [
    {
     "name": "stdout",
     "output_type": "stream",
     "text": [
      "r squared is: 0.64\n"
     ]
    }
   ],
   "source": [
    "y_pred = linear_model1.predict(X_test)\n",
    "print(f\"r squared is: {round(r2_score(y_test, y_pred), 2)}\")"
   ]
  },
  {
   "cell_type": "markdown",
   "id": "b00ff089",
   "metadata": {},
   "source": [
    "## Question 13"
   ]
  },
  {
   "cell_type": "code",
   "execution_count": 12,
   "id": "e283bbde",
   "metadata": {},
   "outputs": [],
   "source": [
    "df1 = df.drop([\"date\"], axis=1)"
   ]
  },
  {
   "cell_type": "code",
   "execution_count": 13,
   "id": "33b170a2",
   "metadata": {},
   "outputs": [],
   "source": [
    "# Normalize the dataset with MinMaxScaler\n",
    "scaler = MinMaxScaler()\n",
    "normalised_df = pd.DataFrame(scaler.fit_transform(df1), columns=df1.columns)"
   ]
  },
  {
   "cell_type": "code",
   "execution_count": 14,
   "id": "8496a7c5",
   "metadata": {},
   "outputs": [],
   "source": [
    "X = normalised_df.drop([\"lights\", \"Appliances\"], axis=1)\n",
    "y = normalised_df[\"Appliances\"]"
   ]
  },
  {
   "cell_type": "code",
   "execution_count": 15,
   "id": "3c897883",
   "metadata": {},
   "outputs": [],
   "source": [
    "X_train, X_test, y_train, y_test = train_test_split(X, y, shuffle=True, test_size=0.3, random_state=42)"
   ]
  },
  {
   "cell_type": "code",
   "execution_count": 16,
   "id": "178458f7",
   "metadata": {},
   "outputs": [
    {
     "data": {
      "text/plain": [
       "LinearRegression()"
      ]
     },
     "execution_count": 16,
     "metadata": {},
     "output_type": "execute_result"
    }
   ],
   "source": [
    "linear_model2 = LinearRegression()\n",
    "linear_model2.fit(X_train, y_train)"
   ]
  },
  {
   "cell_type": "code",
   "execution_count": 17,
   "id": "fc386c2a",
   "metadata": {},
   "outputs": [
    {
     "name": "stdout",
     "output_type": "stream",
     "text": [
      "mean absolute error is: 0.05\n"
     ]
    }
   ],
   "source": [
    "y_pred = linear_model2.predict(X_test)\n",
    "print(f\"mean absolute error is: {round(mean_absolute_error(y_test, y_pred), 2)}\")"
   ]
  },
  {
   "cell_type": "markdown",
   "id": "56be8cfe",
   "metadata": {},
   "source": [
    "## Question 14"
   ]
  },
  {
   "cell_type": "code",
   "execution_count": 18,
   "id": "444dbe25",
   "metadata": {},
   "outputs": [
    {
     "name": "stdout",
     "output_type": "stream",
     "text": [
      "residual sum of squares is : 45.35\n"
     ]
    }
   ],
   "source": [
    "print(f\"residual sum of squares is : {round(np.sum(np.square(y_test - y_pred)), 2)}\")"
   ]
  },
  {
   "cell_type": "markdown",
   "id": "0e14ab01",
   "metadata": {},
   "source": [
    "## Question 15"
   ]
  },
  {
   "cell_type": "code",
   "execution_count": 19,
   "id": "1a2998b0",
   "metadata": {},
   "outputs": [
    {
     "name": "stdout",
     "output_type": "stream",
     "text": [
      "Root mean square error: 0.088\n"
     ]
    }
   ],
   "source": [
    "print(f\"Root mean square error: {round(np.sqrt(mean_squared_error(y_test, y_pred)), 3)}\")"
   ]
  },
  {
   "cell_type": "markdown",
   "id": "3d9742ac",
   "metadata": {},
   "source": [
    "## Question 16"
   ]
  },
  {
   "cell_type": "code",
   "execution_count": 20,
   "id": "0d755028",
   "metadata": {},
   "outputs": [
    {
     "name": "stdout",
     "output_type": "stream",
     "text": [
      "coefficient of determination (r squared) is: 0.15\n"
     ]
    }
   ],
   "source": [
    "print(f\"coefficient of determination (r squared) is: {round(r2_score(y_test, y_pred), 2)}\")"
   ]
  },
  {
   "cell_type": "markdown",
   "id": "a7e65ee1",
   "metadata": {},
   "source": [
    "## Question 17"
   ]
  },
  {
   "cell_type": "code",
   "execution_count": 21,
   "id": "f01687cb",
   "metadata": {},
   "outputs": [
    {
     "data": {
      "text/plain": [
       "Lasso(alpha=0.001)"
      ]
     },
     "execution_count": 21,
     "metadata": {},
     "output_type": "execute_result"
    }
   ],
   "source": [
    "lasso_model = Lasso(alpha = 0.001)\n",
    "lasso_model.fit(X_train, y_train)"
   ]
  },
  {
   "cell_type": "code",
   "execution_count": 22,
   "id": "f639d6cd",
   "metadata": {},
   "outputs": [
    {
     "data": {
      "text/plain": [
       "array([-3.28105119e-03,  5.53600943e-01, -2.36361693e-01, -4.56946743e-01,\n",
       "        2.90752354e-01,  9.60962589e-02,  2.89831935e-02,  2.63980162e-02,\n",
       "       -1.56478930e-02,  1.60304394e-02,  2.36484798e-01,  3.80719509e-02,\n",
       "        1.03030569e-02, -4.45570983e-02,  1.02021226e-01, -1.57630492e-01,\n",
       "       -1.89934576e-01, -3.98188192e-02, -3.21937728e-01,  6.87498350e-03,\n",
       "       -7.76936097e-02,  2.91998623e-02,  1.22882728e-02,  1.17813640e-01,\n",
       "       -1.19940039e+11,  1.19940039e+11])"
      ]
     },
     "execution_count": 22,
     "metadata": {},
     "output_type": "execute_result"
    }
   ],
   "source": [
    "linear_model2.coef_"
   ]
  },
  {
   "cell_type": "code",
   "execution_count": 23,
   "id": "9474a3ca",
   "metadata": {},
   "outputs": [
    {
     "data": {
      "text/html": [
       "<table class=\"simpletable\">\n",
       "<caption>OLS Regression Results</caption>\n",
       "<tr>\n",
       "  <th>Dep. Variable:</th>       <td>Appliances</td>    <th>  R-squared (uncentered):</th>       <td>   0.503</td> \n",
       "</tr>\n",
       "<tr>\n",
       "  <th>Model:</th>                   <td>OLS</td>       <th>  Adj. R-squared (uncentered):</th>  <td>   0.502</td> \n",
       "</tr>\n",
       "<tr>\n",
       "  <th>Method:</th>             <td>Least Squares</td>  <th>  F-statistic:       </th>           <td>   558.4</td> \n",
       "</tr>\n",
       "<tr>\n",
       "  <th>Date:</th>             <td>Tue, 09 Aug 2022</td> <th>  Prob (F-statistic):</th>            <td>  0.00</td>  \n",
       "</tr>\n",
       "<tr>\n",
       "  <th>Time:</th>                 <td>15:30:46</td>     <th>  Log-Likelihood:    </th>           <td>  13799.</td> \n",
       "</tr>\n",
       "<tr>\n",
       "  <th>No. Observations:</th>      <td> 13814</td>      <th>  AIC:               </th>          <td>-2.755e+04</td>\n",
       "</tr>\n",
       "<tr>\n",
       "  <th>Df Residuals:</th>          <td> 13789</td>      <th>  BIC:               </th>          <td>-2.736e+04</td>\n",
       "</tr>\n",
       "<tr>\n",
       "  <th>Df Model:</th>              <td>    25</td>      <th>                     </th>               <td> </td>    \n",
       "</tr>\n",
       "<tr>\n",
       "  <th>Covariance Type:</th>      <td>nonrobust</td>    <th>                     </th>               <td> </td>    \n",
       "</tr>\n",
       "</table>\n",
       "<table class=\"simpletable\">\n",
       "<tr>\n",
       "       <td></td>          <th>coef</th>     <th>std err</th>      <th>t</th>      <th>P>|t|</th>  <th>[0.025</th>    <th>0.975]</th>  \n",
       "</tr>\n",
       "<tr>\n",
       "  <th>T1</th>          <td>   -0.0152</td> <td>    0.020</td> <td>   -0.767</td> <td> 0.443</td> <td>   -0.054</td> <td>    0.024</td>\n",
       "</tr>\n",
       "<tr>\n",
       "  <th>RH_1</th>        <td>    0.5385</td> <td>    0.028</td> <td>   19.321</td> <td> 0.000</td> <td>    0.484</td> <td>    0.593</td>\n",
       "</tr>\n",
       "<tr>\n",
       "  <th>T2</th>          <td>   -0.2069</td> <td>    0.025</td> <td>   -8.228</td> <td> 0.000</td> <td>   -0.256</td> <td>   -0.158</td>\n",
       "</tr>\n",
       "<tr>\n",
       "  <th>RH_2</th>        <td>   -0.3992</td> <td>    0.030</td> <td>  -13.448</td> <td> 0.000</td> <td>   -0.457</td> <td>   -0.341</td>\n",
       "</tr>\n",
       "<tr>\n",
       "  <th>T3</th>          <td>    0.2894</td> <td>    0.014</td> <td>   19.980</td> <td> 0.000</td> <td>    0.261</td> <td>    0.318</td>\n",
       "</tr>\n",
       "<tr>\n",
       "  <th>RH_3</th>        <td>    0.1004</td> <td>    0.016</td> <td>    6.092</td> <td> 0.000</td> <td>    0.068</td> <td>    0.133</td>\n",
       "</tr>\n",
       "<tr>\n",
       "  <th>T4</th>          <td>    0.0328</td> <td>    0.012</td> <td>    2.643</td> <td> 0.008</td> <td>    0.008</td> <td>    0.057</td>\n",
       "</tr>\n",
       "<tr>\n",
       "  <th>RH_4</th>        <td>    0.0187</td> <td>    0.017</td> <td>    1.120</td> <td> 0.263</td> <td>   -0.014</td> <td>    0.051</td>\n",
       "</tr>\n",
       "<tr>\n",
       "  <th>T5</th>          <td>   -0.0301</td> <td>    0.014</td> <td>   -2.190</td> <td> 0.029</td> <td>   -0.057</td> <td>   -0.003</td>\n",
       "</tr>\n",
       "<tr>\n",
       "  <th>RH_5</th>        <td>    0.0205</td> <td>    0.007</td> <td>    3.148</td> <td> 0.002</td> <td>    0.008</td> <td>    0.033</td>\n",
       "</tr>\n",
       "<tr>\n",
       "  <th>T6</th>          <td>    0.2417</td> <td>    0.025</td> <td>    9.719</td> <td> 0.000</td> <td>    0.193</td> <td>    0.290</td>\n",
       "</tr>\n",
       "<tr>\n",
       "  <th>RH_6</th>        <td>    0.0349</td> <td>    0.008</td> <td>    4.603</td> <td> 0.000</td> <td>    0.020</td> <td>    0.050</td>\n",
       "</tr>\n",
       "<tr>\n",
       "  <th>T7</th>          <td>    0.0143</td> <td>    0.016</td> <td>    0.904</td> <td> 0.366</td> <td>   -0.017</td> <td>    0.045</td>\n",
       "</tr>\n",
       "<tr>\n",
       "  <th>RH_7</th>        <td>   -0.0467</td> <td>    0.014</td> <td>   -3.405</td> <td> 0.001</td> <td>   -0.074</td> <td>   -0.020</td>\n",
       "</tr>\n",
       "<tr>\n",
       "  <th>T8</th>          <td>    0.1108</td> <td>    0.012</td> <td>    9.252</td> <td> 0.000</td> <td>    0.087</td> <td>    0.134</td>\n",
       "</tr>\n",
       "<tr>\n",
       "  <th>RH_8</th>        <td>   -0.1622</td> <td>    0.012</td> <td>  -13.317</td> <td> 0.000</td> <td>   -0.186</td> <td>   -0.138</td>\n",
       "</tr>\n",
       "<tr>\n",
       "  <th>T9</th>          <td>   -0.1928</td> <td>    0.019</td> <td>  -10.194</td> <td> 0.000</td> <td>   -0.230</td> <td>   -0.156</td>\n",
       "</tr>\n",
       "<tr>\n",
       "  <th>RH_9</th>        <td>   -0.0447</td> <td>    0.011</td> <td>   -4.002</td> <td> 0.000</td> <td>   -0.067</td> <td>   -0.023</td>\n",
       "</tr>\n",
       "<tr>\n",
       "  <th>T_out</th>       <td>   -0.0577</td> <td>    0.034</td> <td>   -1.716</td> <td> 0.086</td> <td>   -0.124</td> <td>    0.008</td>\n",
       "</tr>\n",
       "<tr>\n",
       "  <th>Press_mm_hg</th> <td>    0.0156</td> <td>    0.005</td> <td>    3.075</td> <td> 0.002</td> <td>    0.006</td> <td>    0.026</td>\n",
       "</tr>\n",
       "<tr>\n",
       "  <th>RH_out</th>      <td>    0.0700</td> <td>    0.013</td> <td>    5.219</td> <td> 0.000</td> <td>    0.044</td> <td>    0.096</td>\n",
       "</tr>\n",
       "<tr>\n",
       "  <th>Windspeed</th>   <td>    0.0410</td> <td>    0.005</td> <td>    7.937</td> <td> 0.000</td> <td>    0.031</td> <td>    0.051</td>\n",
       "</tr>\n",
       "<tr>\n",
       "  <th>Visibility</th>  <td>    0.0135</td> <td>    0.004</td> <td>    3.191</td> <td> 0.001</td> <td>    0.005</td> <td>    0.022</td>\n",
       "</tr>\n",
       "<tr>\n",
       "  <th>Tdewpoint</th>   <td>   -0.0867</td> <td>    0.018</td> <td>   -4.891</td> <td> 0.000</td> <td>   -0.121</td> <td>   -0.052</td>\n",
       "</tr>\n",
       "<tr>\n",
       "  <th>rv1</th>         <td>    0.0011</td> <td>    0.001</td> <td>    0.868</td> <td> 0.385</td> <td>   -0.001</td> <td>    0.004</td>\n",
       "</tr>\n",
       "<tr>\n",
       "  <th>rv2</th>         <td>    0.0011</td> <td>    0.001</td> <td>    0.868</td> <td> 0.385</td> <td>   -0.001</td> <td>    0.004</td>\n",
       "</tr>\n",
       "</table>\n",
       "<table class=\"simpletable\">\n",
       "<tr>\n",
       "  <th>Omnibus:</th>       <td>9902.115</td> <th>  Durbin-Watson:     </th>  <td>   2.021</td> \n",
       "</tr>\n",
       "<tr>\n",
       "  <th>Prob(Omnibus):</th>  <td> 0.000</td>  <th>  Jarque-Bera (JB):  </th> <td>154535.153</td>\n",
       "</tr>\n",
       "<tr>\n",
       "  <th>Skew:</th>           <td> 3.367</td>  <th>  Prob(JB):          </th>  <td>    0.00</td> \n",
       "</tr>\n",
       "<tr>\n",
       "  <th>Kurtosis:</th>       <td>17.938</td>  <th>  Cond. No.          </th>  <td>9.34e+15</td> \n",
       "</tr>\n",
       "</table><br/><br/>Notes:<br/>[1] R² is computed without centering (uncentered) since the model does not contain a constant.<br/>[2] Standard Errors assume that the covariance matrix of the errors is correctly specified.<br/>[3] The smallest eigenvalue is 9.81e-28. This might indicate that there are<br/>strong multicollinearity problems or that the design matrix is singular."
      ],
      "text/plain": [
       "<class 'statsmodels.iolib.summary.Summary'>\n",
       "\"\"\"\n",
       "                                 OLS Regression Results                                \n",
       "=======================================================================================\n",
       "Dep. Variable:             Appliances   R-squared (uncentered):                   0.503\n",
       "Model:                            OLS   Adj. R-squared (uncentered):              0.502\n",
       "Method:                 Least Squares   F-statistic:                              558.4\n",
       "Date:                Tue, 09 Aug 2022   Prob (F-statistic):                        0.00\n",
       "Time:                        15:30:46   Log-Likelihood:                          13799.\n",
       "No. Observations:               13814   AIC:                                 -2.755e+04\n",
       "Df Residuals:                   13789   BIC:                                 -2.736e+04\n",
       "Df Model:                          25                                                  \n",
       "Covariance Type:            nonrobust                                                  \n",
       "===============================================================================\n",
       "                  coef    std err          t      P>|t|      [0.025      0.975]\n",
       "-------------------------------------------------------------------------------\n",
       "T1             -0.0152      0.020     -0.767      0.443      -0.054       0.024\n",
       "RH_1            0.5385      0.028     19.321      0.000       0.484       0.593\n",
       "T2             -0.2069      0.025     -8.228      0.000      -0.256      -0.158\n",
       "RH_2           -0.3992      0.030    -13.448      0.000      -0.457      -0.341\n",
       "T3              0.2894      0.014     19.980      0.000       0.261       0.318\n",
       "RH_3            0.1004      0.016      6.092      0.000       0.068       0.133\n",
       "T4              0.0328      0.012      2.643      0.008       0.008       0.057\n",
       "RH_4            0.0187      0.017      1.120      0.263      -0.014       0.051\n",
       "T5             -0.0301      0.014     -2.190      0.029      -0.057      -0.003\n",
       "RH_5            0.0205      0.007      3.148      0.002       0.008       0.033\n",
       "T6              0.2417      0.025      9.719      0.000       0.193       0.290\n",
       "RH_6            0.0349      0.008      4.603      0.000       0.020       0.050\n",
       "T7              0.0143      0.016      0.904      0.366      -0.017       0.045\n",
       "RH_7           -0.0467      0.014     -3.405      0.001      -0.074      -0.020\n",
       "T8              0.1108      0.012      9.252      0.000       0.087       0.134\n",
       "RH_8           -0.1622      0.012    -13.317      0.000      -0.186      -0.138\n",
       "T9             -0.1928      0.019    -10.194      0.000      -0.230      -0.156\n",
       "RH_9           -0.0447      0.011     -4.002      0.000      -0.067      -0.023\n",
       "T_out          -0.0577      0.034     -1.716      0.086      -0.124       0.008\n",
       "Press_mm_hg     0.0156      0.005      3.075      0.002       0.006       0.026\n",
       "RH_out          0.0700      0.013      5.219      0.000       0.044       0.096\n",
       "Windspeed       0.0410      0.005      7.937      0.000       0.031       0.051\n",
       "Visibility      0.0135      0.004      3.191      0.001       0.005       0.022\n",
       "Tdewpoint      -0.0867      0.018     -4.891      0.000      -0.121      -0.052\n",
       "rv1             0.0011      0.001      0.868      0.385      -0.001       0.004\n",
       "rv2             0.0011      0.001      0.868      0.385      -0.001       0.004\n",
       "==============================================================================\n",
       "Omnibus:                     9902.115   Durbin-Watson:                   2.021\n",
       "Prob(Omnibus):                  0.000   Jarque-Bera (JB):           154535.153\n",
       "Skew:                           3.367   Prob(JB):                         0.00\n",
       "Kurtosis:                      17.938   Cond. No.                     9.34e+15\n",
       "==============================================================================\n",
       "\n",
       "Notes:\n",
       "[1] R² is computed without centering (uncentered) since the model does not contain a constant.\n",
       "[2] Standard Errors assume that the covariance matrix of the errors is correctly specified.\n",
       "[3] The smallest eigenvalue is 9.81e-28. This might indicate that there are\n",
       "strong multicollinearity problems or that the design matrix is singular.\n",
       "\"\"\""
      ]
     },
     "execution_count": 23,
     "metadata": {},
     "output_type": "execute_result"
    }
   ],
   "source": [
    "ols_model = sm.OLS(y_train, X_train).fit()\n",
    "ols_model.summary()"
   ]
  },
  {
   "cell_type": "markdown",
   "id": "77deee83",
   "metadata": {},
   "source": [
    "## Question 18"
   ]
  },
  {
   "cell_type": "code",
   "execution_count": 24,
   "id": "f2cbeefc",
   "metadata": {},
   "outputs": [
    {
     "data": {
      "text/plain": [
       "Ridge(alpha=0.4)"
      ]
     },
     "execution_count": 24,
     "metadata": {},
     "output_type": "execute_result"
    }
   ],
   "source": [
    "ridge_model = Ridge(alpha=0.4)\n",
    "ridge_model.fit(X_train, y_train)"
   ]
  },
  {
   "cell_type": "code",
   "execution_count": 25,
   "id": "e587dcf4",
   "metadata": {},
   "outputs": [
    {
     "name": "stdout",
     "output_type": "stream",
     "text": [
      "Root mean square error: 0.088\n"
     ]
    }
   ],
   "source": [
    "y_pred = ridge_model.predict(X_test)\n",
    "print(f\"Root mean square error: {round(np.sqrt(mean_squared_error(y_test, y_pred)), 3)}\")"
   ]
  },
  {
   "cell_type": "markdown",
   "id": "8ebb3e7b",
   "metadata": {},
   "source": [
    "## Question 19"
   ]
  },
  {
   "cell_type": "code",
   "execution_count": 26,
   "id": "1199043d",
   "metadata": {},
   "outputs": [
    {
     "data": {
      "text/plain": [
       "Lasso(alpha=0.001)"
      ]
     },
     "execution_count": 26,
     "metadata": {},
     "output_type": "execute_result"
    }
   ],
   "source": [
    "lasso_model = Lasso(alpha = 0.001)\n",
    "lasso_model.fit(X_train, y_train)"
   ]
  },
  {
   "cell_type": "code",
   "execution_count": 27,
   "id": "a23d5f89",
   "metadata": {},
   "outputs": [
    {
     "data": {
      "text/plain": [
       "array([ 0.        ,  0.01787993,  0.        , -0.        ,  0.        ,\n",
       "        0.        , -0.        ,  0.        , -0.        ,  0.        ,\n",
       "        0.        , -0.        , -0.        , -0.        ,  0.        ,\n",
       "       -0.00011004, -0.        , -0.        ,  0.        , -0.        ,\n",
       "       -0.04955749,  0.00291176,  0.        ,  0.        , -0.        ,\n",
       "       -0.        ])"
      ]
     },
     "execution_count": 27,
     "metadata": {},
     "output_type": "execute_result"
    }
   ],
   "source": [
    "lasso_model.coef_"
   ]
  },
  {
   "cell_type": "markdown",
   "id": "4626a276",
   "metadata": {},
   "source": [
    "## Question 20"
   ]
  },
  {
   "cell_type": "code",
   "execution_count": 28,
   "id": "e60c1b47",
   "metadata": {},
   "outputs": [
    {
     "name": "stdout",
     "output_type": "stream",
     "text": [
      "Root mean square error: 0.094\n"
     ]
    }
   ],
   "source": [
    "y_pred = lasso_model.predict(X_test)\n",
    "print(f\"Root mean square error: {round(np.sqrt(mean_squared_error(y_test, y_pred)), 3)}\")"
   ]
  }
 ],
 "metadata": {
  "kernelspec": {
   "display_name": "Python 3 (ipykernel)",
   "language": "python",
   "name": "python3"
  },
  "language_info": {
   "codemirror_mode": {
    "name": "ipython",
    "version": 3
   },
   "file_extension": ".py",
   "mimetype": "text/x-python",
   "name": "python",
   "nbconvert_exporter": "python",
   "pygments_lexer": "ipython3",
   "version": "3.9.10"
  }
 },
 "nbformat": 4,
 "nbformat_minor": 5
}
